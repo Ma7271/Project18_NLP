{
 "cells": [
  {
   "cell_type": "code",
   "id": "initial_id",
   "metadata": {
    "collapsed": true,
    "ExecuteTime": {
     "end_time": "2024-11-13T07:53:32.660976Z",
     "start_time": "2024-11-13T07:53:21.161656Z"
    }
   },
   "source": [
    "\"\"\"This code reduce the size of the data set RAW_recipes.csv,and RAW_interactions.csv by filtering the recipes that has more than 10 ratings. It codes generate the new data sets RAW_recipes_filtered.csv,and RAW_interactions_filtered.csv. These new data sets have less data and in this way we can process the data sets faster\"\"\"\n",
    "\n",
    "import pandas as pd\n",
    "# Load the data from the CSV files\n",
    "recipes_df = pd.read_csv('RAW_recipes.csv')\n",
    "interactions_df = pd.read_csv('RAW_interactions.csv')\n",
    "print(len(recipes_df))\n",
    "print(len(interactions_df))\n",
    "\n",
    "# Count the number of ratings per recipe based on recipe_id in interactions\n",
    "ratings_count = interactions_df['recipe_id'].value_counts()\n",
    "\n",
    "# Filter recipe_ids with at least 10 ratings\n",
    "valid_recipes = ratings_count[ratings_count >= 10].index\n",
    "\n",
    "# Filter the recipes and interactions based on the valid recipe_ids\n",
    "filtered_recipes_df = recipes_df[recipes_df['id'].isin(valid_recipes)]\n",
    "filtered_interactions_df = interactions_df[interactions_df['recipe_id'].isin(valid_recipes)]\n",
    "print(len(filtered_recipes_df))\n",
    "print(len(filtered_interactions_df))\n",
    "# Save the filtered data to new CSV files\n",
    "filtered_recipes_df.to_csv('RAW_recipes_filtered.csv', index=False)\n",
    "filtered_interactions_df.to_csv('RAW_interactions_filtered.csv', index=False)\n",
    "\n"
   ],
   "outputs": [
    {
     "name": "stdout",
     "output_type": "stream",
     "text": [
      "231637\n",
      "1132367\n",
      "21399\n",
      "604210\n"
     ]
    }
   ],
   "execution_count": 1
  }
 ],
 "metadata": {
  "kernelspec": {
   "display_name": "Python 3",
   "language": "python",
   "name": "python3"
  },
  "language_info": {
   "codemirror_mode": {
    "name": "ipython",
    "version": 2
   },
   "file_extension": ".py",
   "mimetype": "text/x-python",
   "name": "python",
   "nbconvert_exporter": "python",
   "pygments_lexer": "ipython2",
   "version": "2.7.6"
  }
 },
 "nbformat": 4,
 "nbformat_minor": 5
}
